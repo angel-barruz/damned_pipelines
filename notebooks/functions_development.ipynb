{
 "cells": [
  {
   "cell_type": "markdown",
   "metadata": {},
   "source": [
    "# First of all...remember the imports!!!\n",
    "\n",
    "Ohhhh...Python is so easy and nice 'cause there's always someone else doing the hard stuff...\n",
    "\n",
    "![Image](../images/import.jpg)"
   ]
  },
  {
   "cell_type": "code",
   "execution_count": 1,
   "metadata": {},
   "outputs": [],
   "source": [
    "import requests\n",
    "import pandas as pd\n",
    "import re\n",
    "import json\n",
    "import math"
   ]
  },
  {
   "cell_type": "markdown",
   "metadata": {},
   "source": [
    "# ...and remenber to leave everything nice and tidy...\n",
    "\n",
    "![Image](../images/spaghetti.jpg)\n"
   ]
  },
  {
   "cell_type": "code",
   "execution_count": 2,
   "metadata": {},
   "outputs": [
    {
     "ename": "SyntaxError",
     "evalue": "invalid syntax (1847130575.py, line 2)",
     "output_type": "error",
     "traceback": [
      "\u001b[1;36m  Input \u001b[1;32mIn [2]\u001b[1;36m\u001b[0m\n\u001b[1;33m    USERNAME =\u001b[0m\n\u001b[1;37m               ^\u001b[0m\n\u001b[1;31mSyntaxError\u001b[0m\u001b[1;31m:\u001b[0m invalid syntax\n"
     ]
    }
   ],
   "source": [
    "API_TOKEN =fwkjefpkwejg\n",
    "USERNAME = \n",
    "BASE_URL = 'https://api.github.com/'\n",
    "KEY = 'repos/'\n",
    "OWNER = 'ih-datapt-mad/'\n",
    "REPO =  'dataptmad0522_labs/'\n",
    "SEARCH = 'search/issues?q=repo:'+OWNER+REPO+'+type:pr+state:{}'\n",
    "PULLS = 'pulls?page={}&per_page=100&state={}'\n",
    "COMMITS = 'pulls/{}/commits'\n",
    "STATE = 'open'"
   ]
  },
  {
   "cell_type": "code",
   "execution_count": 3,
   "metadata": {},
   "outputs": [],
   "source": [
    "field_list1 = ['number',\n",
    "               'title',\n",
    "               'state',\n",
    "               'created_at',\n",
    "               'updated_at',\n",
    "               'closed_at',\n",
    "               'html_url',\n",
    "               'base.repo.full_name',\n",
    "               'base.ref',\n",
    "               'head.repo.full_name',\n",
    "               'head.ref',\n",
    "               'head.repo.pushed_at']"
   ]
  },
  {
   "cell_type": "code",
   "execution_count": 4,
   "metadata": {},
   "outputs": [],
   "source": [
    "field_list2 = ['student_name',\n",
    "               'number',\n",
    "               'lab_name',\n",
    "               'state',\n",
    "               'lab_status',\n",
    "               'created_at',\n",
    "               'updated_at',\n",
    "               'closed_at',\n",
    "               'html_url',\n",
    "               'base.repo.full_name',\n",
    "               'base.ref',\n",
    "               'head.repo.full_name',\n",
    "               'head.ref',\n",
    "               'head.repo.pushed_at']"
   ]
  },
  {
   "cell_type": "code",
   "execution_count": 5,
   "metadata": {},
   "outputs": [],
   "source": [
    "field_sort1 = ['lab_status',\n",
    "               'lab_name',\n",
    "               'student_name']"
   ]
  },
  {
   "cell_type": "code",
   "execution_count": 6,
   "metadata": {},
   "outputs": [],
   "source": [
    "field_name1 = ['Student Name',\n",
    "               'PR Number',\n",
    "               'Lab Name',\n",
    "               'PR Status',\n",
    "               'Lab Status',\n",
    "               'PR Created at',\n",
    "               'PR Updated at',\n",
    "               'PR Closed at',\n",
    "               'PR URL',\n",
    "               'base repository',\n",
    "               'base',\n",
    "               'head repository',\n",
    "               'compare',\n",
    "               'Pushed at']"
   ]
  },
  {
   "cell_type": "markdown",
   "metadata": {},
   "source": [
    "# Functions \n",
    "\n",
    "Here you may find all functions you need to create your Pipeline. Be sure you test them before you start to build your Pipeline.\n",
    "\n",
    "![Image](../images/pieces.jpg)"
   ]
  },
  {
   "cell_type": "markdown",
   "metadata": {},
   "source": [
    "### Auxiliary Functions"
   ]
  },
  {
   "cell_type": "code",
   "execution_count": 7,
   "metadata": {},
   "outputs": [],
   "source": [
    "# Aux Function 1: You can get only 100 results per page so it is important to know the number of pages you'll need.\n",
    "\n",
    "def pages(base_url, search, state, username, api_token):\n",
    "    pages = requests.get(base_url + search.format(state), auth=(username,api_token)).json()['total_count']\n",
    "    if STATE == 'open':\n",
    "        pages = math.ceil(pages/100)\n",
    "        return pages\n",
    "    elif STATE == 'closed':\n",
    "        pages = math.ceil(pages/100)\n",
    "        return pages"
   ]
  },
  {
   "cell_type": "code",
   "execution_count": 8,
   "metadata": {},
   "outputs": [],
   "source": [
    "# Auc Function 2: Check the committs in order to know which labs are ready to be reviewed.\n",
    "\n",
    "def get_commits(base_url, key, owner, repo, commits, pull, username, api_token):\n",
    "    r_commits = requests.get(base_url + key + owner + repo + commits.format(pull),\n",
    "                             auth=(username, api_token)).json()\n",
    "    df_commits = pd.json_normalize(r_commits)\n",
    "    list_commits = list(df_commits['commit.message'])\n",
    "    commit = list(set([commit if commit == 'lab-finished' else 'lab-started' for commit in list_commits]))\n",
    "    if 'lab-finished' in commit:\n",
    "        return 'lab-finished'\n",
    "    else:\n",
    "        return 'lab-started'"
   ]
  },
  {
   "cell_type": "code",
   "execution_count": 9,
   "metadata": {},
   "outputs": [],
   "source": [
    "# Aux Function 3: But the students aren't careful with the naming...\n",
    "\n",
    "def student_name(x):\n",
    "    if ']' in x:\n",
    "        x = x.split(']')\n",
    "        x = x[1].replace('_', ' ').strip()\n",
    "        len_x = len(x.split(' '))\n",
    "        if len_x > 1:\n",
    "            x = re.findall('\\w[a-zA-Z áéíóúÁÉÍÓÚñÑ-]+', x)\n",
    "            x = x[0].strip()\n",
    "            return x\n",
    "        else:\n",
    "            x = 'No student name provided'\n",
    "            return x\n",
    "    else:\n",
    "        x = 'Pull request is not properly named'\n",
    "        return x"
   ]
  },
  {
   "cell_type": "code",
   "execution_count": 10,
   "metadata": {},
   "outputs": [],
   "source": [
    "#Aux Function 4\n",
    "\n",
    "def lab_name(x):\n",
    "    if ']' in x:\n",
    "        x = x.split(']')\n",
    "        x = x[0] + ']'\n",
    "        x = x.strip()\n",
    "        lower_case = re.findall('[A-ZÁÉÍÓÚñÑ]+', x)\n",
    "        if x[0] == '[' and x[-1] == ']' and ' ' not in x and len(lower_case) == 0:\n",
    "            return x\n",
    "        else:\n",
    "            x = 'Lab format name is incorrect'\n",
    "            return x\n",
    "    else:\n",
    "        x = 'Pull request is not properly named'\n",
    "        return x"
   ]
  },
  {
   "cell_type": "code",
   "execution_count": 11,
   "metadata": {},
   "outputs": [],
   "source": [
    "# Aux Function 5: ...or forget to push their work!!!\n",
    "\n",
    "def time_parser(x):\n",
    "    try:\n",
    "        x = x.strip()\n",
    "        x = re.findall('[0-9]+', x)\n",
    "        x = ''.join(x)\n",
    "        x = pd.to_datetime(x, format='%Y%m%d%H%M%S', errors='coerce')\n",
    "        return x\n",
    "    except:\n",
    "        return 'Nothing pushed yet'"
   ]
  },
  {
   "cell_type": "markdown",
   "metadata": {},
   "source": [
    "### Pipeline Functions"
   ]
  },
  {
   "cell_type": "code",
   "execution_count": 12,
   "metadata": {},
   "outputs": [],
   "source": [
    "# Pipeline Function 1: And finally get the 'pull requests'.\n",
    "\n",
    "def get_pulls(base_url, key, owner, repo, pulls, search, state, username, api_token, field_list):\n",
    "    pulls_list = []\n",
    "    max_pages = pages(base_url, search, state, username, api_token)\n",
    "    for i in range(max_pages):\n",
    "        r_pulls = requests.get(base_url + key + owner + repo + pulls.format(i+1, state),\n",
    "                               auth=(username, api_token)).json()\n",
    "        df_pulls = pd.json_normalize(r_pulls)\n",
    "        pulls_list.append(df_pulls)\n",
    "    df_pulls = pd.concat(pulls_list)\n",
    "    df_pulls = df_pulls[field_list]\n",
    "    return df_pulls"
   ]
  },
  {
   "cell_type": "code",
   "execution_count": 13,
   "metadata": {},
   "outputs": [],
   "source": [
    "# Pipeline Function 2: Apply!!!!!!\n",
    "\n",
    "def df_status(df_pulls, base_url, key, owner, repo, commits, username, api_token, field_list):\n",
    "    df_pulls['student_name'] = df_pulls['title'].apply(student_name)\n",
    "    df_pulls['lab_name'] = df_pulls['title'].apply(lab_name)\n",
    "    df_pulls['created_at'] = df_pulls['created_at'].apply(time_parser)\n",
    "    df_pulls['updated_at'] = df_pulls['updated_at'].apply(time_parser)\n",
    "    df_pulls['head.repo.pushed_at'] = df_pulls['head.repo.pushed_at'].apply(time_parser)\n",
    "    df_pulls['lab_status'] = df_pulls.apply(lambda col: get_commits(base_url,\n",
    "                                                                    key,\n",
    "                                                                    owner,\n",
    "                                                                    repo,\n",
    "                                                                    commits,\n",
    "                                                                    col['number'],\n",
    "                                                                    username,\n",
    "                                                                    api_token), axis=1)\n",
    "    df_status = df_pulls[field_list]\n",
    "    return df_status"
   ]
  },
  {
   "cell_type": "code",
   "execution_count": 14,
   "metadata": {},
   "outputs": [],
   "source": [
    "# Pipeline function 3: And there you have it!!!\n",
    "\n",
    "def create_csv(df_status, field_sort, field_name):\n",
    "    df_csv = df_status.sort_values(by=field_sort, ascending=False)\n",
    "    df_csv.columns = field_name\n",
    "    df_csv.to_csv('../data/labs_status.csv', index=False)\n",
    "    return df_csv"
   ]
  },
  {
   "cell_type": "code",
   "execution_count": 15,
   "metadata": {},
   "outputs": [
    {
     "ename": "NameError",
     "evalue": "name 'BASE_URL' is not defined",
     "output_type": "error",
     "traceback": [
      "\u001b[1;31m---------------------------------------------------------------------------\u001b[0m",
      "\u001b[1;31mNameError\u001b[0m                                 Traceback (most recent call last)",
      "Input \u001b[1;32mIn [15]\u001b[0m, in \u001b[0;36m<cell line: 3>\u001b[1;34m()\u001b[0m\n\u001b[0;32m      1\u001b[0m \u001b[38;5;66;03m# Damned Pipelines!!!\u001b[39;00m\n\u001b[1;32m----> 3\u001b[0m DF_PULLS \u001b[38;5;241m=\u001b[39m get_pulls(\u001b[43mBASE_URL\u001b[49m, KEY, OWNER, REPO, PULLS, SEARCH, STATE, USERNAME, API_TOKEN, field_list1)\n\u001b[0;32m      4\u001b[0m DF_STATUS \u001b[38;5;241m=\u001b[39m df_status(DF_PULLS, BASE_URL, KEY, OWNER, REPO, COMMITS, USERNAME, API_TOKEN, field_list2)\n\u001b[0;32m      5\u001b[0m DF_CSV \u001b[38;5;241m=\u001b[39m create_csv(DF_STATUS, field_sort1, field_name1)\n",
      "\u001b[1;31mNameError\u001b[0m: name 'BASE_URL' is not defined"
     ]
    }
   ],
   "source": [
    "# Damned Pipelines!!!\n",
    "\n",
    "DF_PULLS = get_pulls(BASE_URL, KEY, OWNER, REPO, PULLS, SEARCH, STATE, USERNAME, API_TOKEN, field_list1)\n",
    "DF_STATUS = df_status(DF_PULLS, BASE_URL, KEY, OWNER, REPO, COMMITS, USERNAME, API_TOKEN, field_list2)\n",
    "DF_CSV = create_csv(DF_STATUS, field_sort1, field_name1)\n",
    "DF_CSV"
   ]
  },
  {
   "cell_type": "code",
   "execution_count": null,
   "metadata": {},
   "outputs": [],
   "source": []
  }
 ],
 "metadata": {
  "kernelspec": {
   "display_name": "Python [conda env:m1_ih]",
   "language": "python",
   "name": "conda-env-m1_ih-py"
  },
  "language_info": {
   "codemirror_mode": {
    "name": "ipython",
    "version": 3
   },
   "file_extension": ".py",
   "mimetype": "text/x-python",
   "name": "python",
   "nbconvert_exporter": "python",
   "pygments_lexer": "ipython3",
   "version": "3.9.12"
  }
 },
 "nbformat": 4,
 "nbformat_minor": 2
}
